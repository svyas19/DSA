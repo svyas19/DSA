{
  "nbformat": 4,
  "nbformat_minor": 0,
  "metadata": {
    "colab": {
      "provenance": []
    },
    "kernelspec": {
      "name": "python3",
      "display_name": "Python 3"
    },
    "language_info": {
      "name": "python"
    }
  },
  "cells": [
    {
      "cell_type": "markdown",
      "source": [
        "# Time  Complexity\n",
        "\n",
        "\n",
        "\n",
        "\n",
        "    Time complexity measures the total time required to complete the execution of an algorithm as a function of the length of the input. It helps you determine how the runtime will increase as the size of the input increases.\n",
        "\n",
        "    How to Calculate Time Complexity:\n",
        "    1) Identify the Basic Operations: Look for operations that directly depend on the size of the input (n). These might include loops, recursive calls, or conditional branches.\n",
        "    \n",
        "    2) Count the Iterations:\n",
        "    For loops: Consider how many times the loop runs in relation to n.\n",
        "    For recursive algorithms: Identify the recurrence relation and solve it.\n",
        "    \n",
        "    3) Express as Big O Notation:\n",
        "    Constant Time (O(1)): The runtime is constant and does not depend on the input size.\n",
        "    Linear Time (O(n)): The runtime increases linearly with the input size.\n",
        "    Quadratic Time (O(n²)): The runtime increases quadratically with the input size. Common in algorithms with nested loops.\n",
        "    Logarithmic Time (O(log n)): Common in algorithms that divide the problem space in half each time, like binary search.\n",
        "    Linearithmic Time (O(n log n)): Common in efficient sorting algorithms like mergesort and heapsort.\n",
        "\n",
        "\n",
        "\n"
      ],
      "metadata": {
        "id": "MJBNyYEPTVbk"
      }
    },
    {
      "cell_type": "markdown",
      "source": [
        "##Constant Time: O(1)\n",
        "An algorithm is said to operate in constant time if it requires the same amount of time regardless of the input size. These operations typically involve direct access to a data structure's element."
      ],
      "metadata": {
        "id": "8fWbxm4MU-xE"
      }
    },
    {
      "cell_type": "code",
      "source": [
        "# Time Complexity: O(1)\n",
        "\n",
        "def get_first_element(arr):\n",
        "    return arr[0]  # Accessing the first element\n",
        "\n",
        "\n",
        "\n"
      ],
      "metadata": {
        "id": "I7MSzVFVUlGY"
      },
      "execution_count": 4,
      "outputs": []
    },
    {
      "cell_type": "markdown",
      "source": [
        "##Linear Time: O(n)\n",
        "An algorithm has linear time complexity when the time to complete the task grows linearly with the input size."
      ],
      "metadata": {
        "id": "43526MMWVCuV"
      }
    },
    {
      "cell_type": "code",
      "execution_count": 5,
      "metadata": {
        "colab": {
          "base_uri": "https://localhost:8080/"
        },
        "id": "fcSlQVAdTUja",
        "outputId": "04c8d295-86ba-48af-991b-5da0d2fded93"
      },
      "outputs": [
        {
          "output_type": "stream",
          "name": "stdout",
          "text": [
            "0\n",
            "1\n"
          ]
        }
      ],
      "source": [
        "# Time Complexity: O(n)\n",
        "n = 2\n",
        "for i in range(n):  # Runs n times\n",
        "    print(i)\n",
        "\n",
        "# As the loop runs n times, and each operation inside the loop takes constant time.\n"
      ]
    },
    {
      "cell_type": "markdown",
      "source": [
        "##Quadratic Time: O(n²)\n",
        "Algorithms with quadratic time complexity are common in scenarios involving nested iterations over the data."
      ],
      "metadata": {
        "id": "QAucU0mLVIF7"
      }
    },
    {
      "cell_type": "code",
      "source": [
        "def has_duplicates(arr):\n",
        "    for i in range(len(arr)):\n",
        "        for j in range(i + 1, len(arr)):\n",
        "            if arr[i] == arr[j]:\n",
        "                return True\n",
        "    return False\n"
      ],
      "metadata": {
        "id": "Gdk_VS2hUT-Q"
      },
      "execution_count": 6,
      "outputs": []
    },
    {
      "cell_type": "markdown",
      "source": [
        "##Logarithmic Time: O(log n)\n",
        "Logarithmic time complexity occurs in algorithms that can divide the problem size by a factor with each step."
      ],
      "metadata": {
        "id": "fsNqUCg_VUHM"
      }
    },
    {
      "cell_type": "code",
      "source": [
        "def binary_search(arr, target):\n",
        "    low, high = 0, len(arr) - 1\n",
        "    while low <= high:\n",
        "        mid = (low + high) // 2\n",
        "        if arr[mid] == target:\n",
        "            return True\n",
        "        elif arr[mid] < target:\n",
        "            low = mid + 1\n",
        "        else:\n",
        "            high = mid - 1\n",
        "    return False\n"
      ],
      "metadata": {
        "id": "j_8BtddSVMNy"
      },
      "execution_count": 7,
      "outputs": []
    },
    {
      "cell_type": "markdown",
      "source": [
        "##Exponential Time: O(2^n)\n",
        "Exponential time complexities are often seen in algorithms that generate all subsets of a given set or all possible permutations of a sequence."
      ],
      "metadata": {
        "id": "8VPTTQ1IVfzo"
      }
    },
    {
      "cell_type": "code",
      "source": [
        "def fibonacci(n):\n",
        "    if n <= 1:\n",
        "        return n\n",
        "    return fibonacci(n-1) + fibonacci(n-2)\n"
      ],
      "metadata": {
        "id": "a1vKBP5zVXIv"
      },
      "execution_count": 8,
      "outputs": []
    },
    {
      "cell_type": "markdown",
      "source": [
        "##Factorial Time: O(n!)\n",
        "Factorial time complexity occurs in algorithms that need to generate all possible permutations of a set, typically seen in brute-force solutions."
      ],
      "metadata": {
        "id": "ENKQc6kFVjrW"
      }
    },
    {
      "cell_type": "code",
      "source": [
        "def permute(arr, s, e):\n",
        "    if s == e:\n",
        "        print(arr)\n",
        "    else:\n",
        "        for i in range(s, e + 1):\n",
        "            arr[s], arr[i] = arr[i], arr[s]\n",
        "            permute(arr, s + 1, e)\n",
        "            arr[s], arr[i] = arr[i], arr[s]  # backtrack\n",
        "\n",
        "arr = [1, 2, 3]\n",
        "permute(arr, 0, len(arr)-1)\n"
      ],
      "metadata": {
        "colab": {
          "base_uri": "https://localhost:8080/"
        },
        "id": "S1YAAjkhVhuX",
        "outputId": "6ab852c6-d3a6-4de5-83f2-c65edde8a9ab"
      },
      "execution_count": 9,
      "outputs": [
        {
          "output_type": "stream",
          "name": "stdout",
          "text": [
            "[1, 2, 3]\n",
            "[1, 3, 2]\n",
            "[2, 1, 3]\n",
            "[2, 3, 1]\n",
            "[3, 2, 1]\n",
            "[3, 1, 2]\n"
          ]
        }
      ]
    },
    {
      "cell_type": "markdown",
      "source": [
        "# Space Complexity\n",
        "\n",
        "    Space complexity measures the total amount of memory space required by an algorithm to run as a function of the length of the input.\n",
        "\n",
        "    How to Calculate Space Complexity:\n",
        "    1) Identify the Variables: Count all the data structures (arrays, lists, maps, etc.) and variables that the algorithm uses.\n",
        "    \n",
        "    2) Analyze the Space Usage:\n",
        "    Consider both the auxiliary space (temporary data structures) and the space taken by the input itself.\n",
        "    If the algorithm needs a temporary data structure that grows with the input size, this will be part of the space complexity.\n",
        "    \n",
        "    3)Express as Big O Notation:\n",
        "    Constant Space (O(1)): The amount of space used does not increase with the input size.\n",
        "    Linear Space (O(n)): The space usage grows linearly with the input size.\n",
        "\n"
      ],
      "metadata": {
        "id": "3ZvSlBl9V5dc"
      }
    },
    {
      "cell_type": "markdown",
      "source": [
        "## Constant Space: O(1)\n",
        "An algorithm operates in constant space when it uses a fixed amount of memory regardless of the input size. This space typically involves a few variables that do not scale with the size of the input."
      ],
      "metadata": {
        "id": "1qZ6hmerWqS3"
      }
    },
    {
      "cell_type": "code",
      "source": [
        "def find_max(arr):\n",
        "    max_val = arr[0]  # Only one variable used\n",
        "    for num in arr:\n",
        "        if num > max_val:\n",
        "            max_val = num\n",
        "    return max_val\n"
      ],
      "metadata": {
        "id": "xbrzd0H8Vm4J"
      },
      "execution_count": 10,
      "outputs": []
    },
    {
      "cell_type": "markdown",
      "source": [
        "## Linear Space: O(n)\n",
        "Linear space complexity occurs when the algorithm needs space proportional to the input size."
      ],
      "metadata": {
        "id": "MfOP7d4CWx5L"
      }
    },
    {
      "cell_type": "code",
      "source": [
        "def clone_list(arr):\n",
        "    new_arr = arr[:]  # Creates a copy of the array\n",
        "    return new_arr\n"
      ],
      "metadata": {
        "id": "be591UeNWtfu"
      },
      "execution_count": 12,
      "outputs": []
    },
    {
      "cell_type": "markdown",
      "source": [
        "## Logarithmic Space: O(log n)\n",
        "Logarithmic space complexity is less common but can occur in scenarios where the recursion stack grows logarithmically with the size of the input."
      ],
      "metadata": {
        "id": "oMwgMflDW3uN"
      }
    },
    {
      "cell_type": "code",
      "source": [
        "def binary_search(arr, low, high, target):\n",
        "    if low > high:\n",
        "        return False\n",
        "    mid = (low + high) // 2\n",
        "    if arr[mid] == target:\n",
        "        return True\n",
        "    elif arr[mid] < target:\n",
        "        return binary_search(arr, mid + 1, high, target)\n",
        "    else:\n",
        "        return binary_search(arr, low, mid - 1, target)\n"
      ],
      "metadata": {
        "id": "LC-aTNNcWwhY"
      },
      "execution_count": 13,
      "outputs": []
    },
    {
      "cell_type": "markdown",
      "source": [
        "## Quadratic Space: O(n²)\n",
        "Quadratic space complexity occurs in algorithms that require space that grows as the square of the input size, often due to nested data structures."
      ],
      "metadata": {
        "id": "veppoN5GXA47"
      }
    },
    {
      "cell_type": "code",
      "source": [
        "def multiplication_table(n):\n",
        "    table = [[0]*n for _ in range(n)]\n",
        "    for i in range(n):\n",
        "        for j in range(n):\n",
        "            table[i][j] = (i+1) * (j+1)\n",
        "    return table\n"
      ],
      "metadata": {
        "id": "9VLNOv1DW9xj"
      },
      "execution_count": 14,
      "outputs": []
    },
    {
      "cell_type": "markdown",
      "source": [
        "##Exponential Space: O(2^n)\n",
        "Exponential space complexity occurs in algorithms where the memory usage doubles with each additional element of the input. This is typical in exhaustive search strategies."
      ],
      "metadata": {
        "id": "ZeVHNQB8XGoz"
      }
    },
    {
      "cell_type": "code",
      "source": [
        "def generate_subsets(arr):\n",
        "    subsets = []\n",
        "    total = 2 ** len(arr)\n",
        "    for i in range(total):\n",
        "        subset = []\n",
        "        for j in range(len(arr)):\n",
        "            if i & (1 << j):\n",
        "                subset.append(arr[j])\n",
        "        subsets.append(subset)\n",
        "    return subsets\n"
      ],
      "metadata": {
        "id": "sVLyntjLXD_W"
      },
      "execution_count": 15,
      "outputs": []
    },
    {
      "cell_type": "code",
      "source": [],
      "metadata": {
        "id": "OhsUkkRXXJM2"
      },
      "execution_count": null,
      "outputs": []
    }
  ]
}